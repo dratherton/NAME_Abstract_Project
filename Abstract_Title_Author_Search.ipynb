{
  "nbformat": 4,
  "nbformat_minor": 0,
  "metadata": {
    "colab": {
      "provenance": []
    },
    "kernelspec": {
      "name": "python3",
      "display_name": "Python 3"
    },
    "language_info": {
      "name": "python"
    }
  },
  "cells": [
    {
      "cell_type": "code",
      "execution_count": null,
      "metadata": {
        "collapsed": true,
        "id": "CiaDgisK4La_"
      },
      "outputs": [],
      "source": [
        "pip install bio"
      ]
    },
    {
      "cell_type": "code",
      "source": [
        "pip install pandas"
      ],
      "metadata": {
        "collapsed": true,
        "id": "rDx4kn1w4UP4"
      },
      "execution_count": null,
      "outputs": []
    },
    {
      "cell_type": "code",
      "source": [
        "pip install openpyxl"
      ],
      "metadata": {
        "collapsed": true,
        "id": "tqjAS6vq4YMI"
      },
      "execution_count": null,
      "outputs": []
    },
    {
      "cell_type": "code",
      "source": [
        "!pip install ipython-autotime\n",
        "\n",
        "%load_ext autotime"
      ],
      "metadata": {
        "id": "nPtUopA9EkFc"
      },
      "execution_count": null,
      "outputs": []
    },
    {
      "cell_type": "code",
      "source": [
        "\n",
        "import pandas as pd\n",
        "from Bio import Entrez\n",
        "import re\n",
        "from openpyxl import Workbook\n",
        "\n",
        "# Set your email here for NCBI Entrez\n",
        "Entrez.email = \"<your email>\"  # Replace with your actual email\n",
        "\n",
        "# Define a set of common stop words to exclude from scoring\n",
        "STOP_WORDS = {\"a\", \"and\", \"as\", \"at\", \"but\", \"by\", \"for\", \"from\", \"if\", \"in\", \"into\", \"of\", \"on\", \"or\", \"to\", \"the\"}\n",
        "\n",
        "def extract_words(text):\n",
        "    \"\"\"Extract all words from a text, excluding stop words.\"\"\"\n",
        "    words = re.findall(r'\\b\\w+\\b', text.lower())\n",
        "    filtered_words = [word for word in words if word not in STOP_WORDS]\n",
        "    return filtered_words\n",
        "\n",
        "def search_pubmed(title, author=None, max_results=200):\n",
        "    # Extract words from the title (case-insensitive) excluding stop words\n",
        "    words = extract_words(title)\n",
        "    lowercase_title = title.lower()  # Convert title to lowercase for comparison\n",
        "\n",
        "    if not words:\n",
        "        print(f\"No significant words found in title: '{title}'\")\n",
        "        return []\n",
        "\n",
        "    # Construct query string with title words\n",
        "    word_query = \" OR \".join([f\"{word}[Title]\" for word in words])\n",
        "\n",
        "    # Add author to query if specified\n",
        "    if author:\n",
        "        query = f\"({word_query}) AND {author}[Author]\"\n",
        "    else:\n",
        "        query = word_query\n",
        "\n",
        "    # Search PubMed with sorting by relevance\n",
        "    handle = Entrez.esearch(db=\"pubmed\", term=query, retmax=max_results, sort=\"relevance\")\n",
        "    record = Entrez.read(handle)\n",
        "    handle.close()\n",
        "\n",
        "    # Get list of PubMed IDs\n",
        "    id_list = record[\"IdList\"]\n",
        "\n",
        "    # Check if there are no results\n",
        "    if not id_list:\n",
        "        print(f\"No results found for title: '{title}'\")\n",
        "        return [{\"PubMed ID\": \"No results\", \"Title\": \"\", \"Score\": 0}]\n",
        "\n",
        "    # Fetch and rank titles for each PubMed ID\n",
        "    return fetch_and_rank_pubmed_titles(id_list, words, lowercase_title)\n",
        "\n",
        "def calculate_similarity_score(title, words):\n",
        "    \"\"\"Calculate the similarity score based on the number of matching words, case-insensitive.\"\"\"\n",
        "    score = sum(1 for word in words if re.search(rf'\\b{word}\\b', title, re.IGNORECASE))\n",
        "    return score\n",
        "\n",
        "def fetch_and_rank_pubmed_titles(id_list, words, lowercase_title, max_display=10):\n",
        "    # Fetch titles for a list of PubMed IDs\n",
        "    handle = Entrez.efetch(db=\"pubmed\", id=\",\".join(id_list), retmode=\"xml\")\n",
        "    records = Entrez.read(handle)\n",
        "    handle.close()\n",
        "\n",
        "    # Collect articles with scores\n",
        "    articles = []\n",
        "\n",
        "    # Extract title and PubMed ID for each result\n",
        "    for record in records[\"PubmedArticle\"]:\n",
        "        pubmed_id = record[\"MedlineCitation\"][\"PMID\"]\n",
        "        title = record[\"MedlineCitation\"][\"Article\"][\"ArticleTitle\"]\n",
        "\n",
        "        # Calculate similarity score\n",
        "        score = calculate_similarity_score(title.lower(), words)\n",
        "\n",
        "        # Append article information to list with score\n",
        "        articles.append({\n",
        "            \"PubMed ID\": pubmed_id,\n",
        "            \"Title\": title,\n",
        "            \"Score\": score\n",
        "        })\n",
        "\n",
        "    # Sort articles by similarity score in descending order and limit to top results\n",
        "    articles = sorted(articles, key=lambda x: x[\"Score\"], reverse=True)[:max_display]\n",
        "    return articles\n",
        "\n",
        "def process_titles_from_excel(input_file, output_file, title_column=\"Title\", author_column=\"Author\"):\n",
        "    # Load Excel file and read titles and authors\n",
        "    df = pd.read_excel(input_file)\n",
        "    titles = df[title_column].dropna().tolist()  # Drop any empty cells in the title column\n",
        "    authors = df.get(author_column, [None] * len(titles)).tolist()  # Handle optional author column\n",
        "\n",
        "    # Prepare list to store results\n",
        "    results = []\n",
        "\n",
        "    for input_title, input_author in zip(titles, authors):\n",
        "        print(f\"Processing title: {input_title} with author: {input_author if input_author else 'N/A'}\")\n",
        "\n",
        "        # Get top 10 similar articles for each title and optional author\n",
        "        top_articles = search_pubmed(input_title, input_author)\n",
        "\n",
        "        # Store results with input title and author for each matched article\n",
        "        for article in top_articles:\n",
        "            results.append({\n",
        "                \"Input Title\": input_title,\n",
        "                \"Author\": input_author if input_author else \"\",\n",
        "                \"PubMed ID\": article[\"PubMed ID\"],\n",
        "                \"Matched Title\": article[\"Title\"],\n",
        "                \"Score\": article[\"Score\"]\n",
        "            })\n",
        "\n",
        "    # Convert results to a DataFrame and save to Excel\n",
        "    output_df = pd.DataFrame(results)\n",
        "    output_df.to_excel(output_file, index=False)\n",
        "    print(f\"Results saved to {output_file}\")\n",
        "\n",
        "# Example usage\n",
        "input_file = \"<input file>\"    # Path to the input Excel file containing titles and authors\n",
        "output_file = \"<output file>\"  # Path to save the output Excel file\n",
        "\n",
        "# Process titles and save results to an output file\n",
        "process_titles_from_excel(input_file, output_file)\n"
      ],
      "metadata": {
        "id": "j0g37zG2EN0E"
      },
      "execution_count": null,
      "outputs": []
    }
  ]
}